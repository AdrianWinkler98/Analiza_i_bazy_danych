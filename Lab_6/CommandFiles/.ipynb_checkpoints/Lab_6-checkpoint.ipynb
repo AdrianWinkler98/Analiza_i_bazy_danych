{
 "cells": [
  {
   "cell_type": "markdown",
   "metadata": {},
   "source": [
    "# Wczytanie pliku .csv i wyświetlenie tablicy"
   ]
  },
  {
   "cell_type": "code",
   "execution_count": 106,
   "metadata": {
    "colab": {
     "base_uri": "https://localhost:8080/",
     "height": 472
    },
    "id": "oOe0x7MDkGeZ",
    "outputId": "ad78ed1d-abad-4d3d-e086-7744cfcac0fa"
   },
   "outputs": [
    {
     "data": {
      "text/html": [
       "<div>\n",
       "<style scoped>\n",
       "    .dataframe tbody tr th:only-of-type {\n",
       "        vertical-align: middle;\n",
       "    }\n",
       "\n",
       "    .dataframe tbody tr th {\n",
       "        vertical-align: top;\n",
       "    }\n",
       "\n",
       "    .dataframe thead th {\n",
       "        text-align: right;\n",
       "    }\n",
       "</style>\n",
       "<table border=\"1\" class=\"dataframe\">\n",
       "  <thead>\n",
       "    <tr style=\"text-align: right;\">\n",
       "      <th></th>\n",
       "      <th>Unnamed: 0</th>\n",
       "      <th>Dni od zakupu</th>\n",
       "      <th>Marka</th>\n",
       "      <th>Wiek kupującego</th>\n",
       "      <th>Płeć kupującego</th>\n",
       "      <th>Ocena</th>\n",
       "    </tr>\n",
       "  </thead>\n",
       "  <tbody>\n",
       "    <tr>\n",
       "      <th>0</th>\n",
       "      <td>0</td>\n",
       "      <td>5</td>\n",
       "      <td>Dyson</td>\n",
       "      <td>45.0</td>\n",
       "      <td>K</td>\n",
       "      <td>2.0</td>\n",
       "    </tr>\n",
       "    <tr>\n",
       "      <th>1</th>\n",
       "      <td>1</td>\n",
       "      <td>9</td>\n",
       "      <td>Dyson</td>\n",
       "      <td>NaN</td>\n",
       "      <td>K</td>\n",
       "      <td>1.0</td>\n",
       "    </tr>\n",
       "    <tr>\n",
       "      <th>2</th>\n",
       "      <td>2</td>\n",
       "      <td>11</td>\n",
       "      <td>Beko</td>\n",
       "      <td>44.0</td>\n",
       "      <td>K</td>\n",
       "      <td>2.0</td>\n",
       "    </tr>\n",
       "    <tr>\n",
       "      <th>3</th>\n",
       "      <td>3</td>\n",
       "      <td>10</td>\n",
       "      <td>Electrolux</td>\n",
       "      <td>40.0</td>\n",
       "      <td>bd.</td>\n",
       "      <td>2.0</td>\n",
       "    </tr>\n",
       "    <tr>\n",
       "      <th>4</th>\n",
       "      <td>4</td>\n",
       "      <td>5</td>\n",
       "      <td>Electrolux</td>\n",
       "      <td>62.0</td>\n",
       "      <td>K</td>\n",
       "      <td>2.5</td>\n",
       "    </tr>\n",
       "    <tr>\n",
       "      <th>...</th>\n",
       "      <td>...</td>\n",
       "      <td>...</td>\n",
       "      <td>...</td>\n",
       "      <td>...</td>\n",
       "      <td>...</td>\n",
       "      <td>...</td>\n",
       "    </tr>\n",
       "    <tr>\n",
       "      <th>525</th>\n",
       "      <td>525</td>\n",
       "      <td>4</td>\n",
       "      <td>Dyson</td>\n",
       "      <td>36.0</td>\n",
       "      <td>bd.</td>\n",
       "      <td>3.0</td>\n",
       "    </tr>\n",
       "    <tr>\n",
       "      <th>526</th>\n",
       "      <td>526</td>\n",
       "      <td>6</td>\n",
       "      <td>Beko</td>\n",
       "      <td>18.0</td>\n",
       "      <td>M</td>\n",
       "      <td>3.5</td>\n",
       "    </tr>\n",
       "    <tr>\n",
       "      <th>527</th>\n",
       "      <td>527</td>\n",
       "      <td>8</td>\n",
       "      <td>Electrolux</td>\n",
       "      <td>43.0</td>\n",
       "      <td>K</td>\n",
       "      <td>2.0</td>\n",
       "    </tr>\n",
       "    <tr>\n",
       "      <th>528</th>\n",
       "      <td>528</td>\n",
       "      <td>5</td>\n",
       "      <td>Electrolux</td>\n",
       "      <td>30.0</td>\n",
       "      <td>K</td>\n",
       "      <td>3.0</td>\n",
       "    </tr>\n",
       "    <tr>\n",
       "      <th>529</th>\n",
       "      <td>529</td>\n",
       "      <td>5</td>\n",
       "      <td>Beko</td>\n",
       "      <td>47.0</td>\n",
       "      <td>K</td>\n",
       "      <td>1.0</td>\n",
       "    </tr>\n",
       "  </tbody>\n",
       "</table>\n",
       "<p>530 rows × 6 columns</p>\n",
       "</div>"
      ],
      "text/plain": [
       "     Unnamed: 0  Dni od zakupu       Marka  Wiek kupującego Płeć kupującego  \\\n",
       "0             0              5       Dyson             45.0               K   \n",
       "1             1              9       Dyson              NaN               K   \n",
       "2             2             11        Beko             44.0               K   \n",
       "3             3             10  Electrolux             40.0             bd.   \n",
       "4             4              5  Electrolux             62.0               K   \n",
       "..          ...            ...         ...              ...             ...   \n",
       "525         525              4       Dyson             36.0             bd.   \n",
       "526         526              6        Beko             18.0               M   \n",
       "527         527              8  Electrolux             43.0               K   \n",
       "528         528              5  Electrolux             30.0               K   \n",
       "529         529              5        Beko             47.0               K   \n",
       "\n",
       "     Ocena  \n",
       "0      2.0  \n",
       "1      1.0  \n",
       "2      2.0  \n",
       "3      2.0  \n",
       "4      2.5  \n",
       "..     ...  \n",
       "525    3.0  \n",
       "526    3.5  \n",
       "527    2.0  \n",
       "528    3.0  \n",
       "529    1.0  \n",
       "\n",
       "[530 rows x 6 columns]"
      ]
     },
     "execution_count": 106,
     "metadata": {},
     "output_type": "execute_result"
    }
   ],
   "source": [
    "import pandas as pd\n",
    "import matplotlib.pyplot as plt\n",
    "\n",
    "# Wczytanie pliku i wyświetlenie oryginalnej tablicy\n",
    "direction = \"./OriginalData/13_WARMINSKO-MAZURSKIE.csv\"\n",
    "cleaner = pd.read_csv(direction)\n",
    "cleaner\n"
   ]
  },
  {
   "cell_type": "markdown",
   "metadata": {},
   "source": [
    "# Usunięcie wierszy z niepoprawnym wiekiem"
   ]
  },
  {
   "cell_type": "code",
   "execution_count": 108,
   "metadata": {},
   "outputs": [],
   "source": [
    "# Usuń wiersze z błędnym wiekiem \n",
    "cleaner = cleaner.dropna(subset=['Wiek kupującego'])"
   ]
  },
  {
   "cell_type": "markdown",
   "metadata": {},
   "source": [
    "# Zapis nowego pliku z usuniętymi wierszami niepoprawnego wieku"
   ]
  },
  {
   "cell_type": "code",
   "execution_count": 122,
   "metadata": {},
   "outputs": [],
   "source": [
    "# Zapisz nowy plik w folderzez AnalysisData\n",
    "cleaner.to_csv(path_or_buf=\"./AnalysisData/13_WARMINSKO-MAZURSKIE_new.csv\", index=False)"
   ]
  },
  {
   "cell_type": "markdown",
   "metadata": {},
   "source": [
    "# Wyświetlenie marek zakupionych odkurzaczy"
   ]
  },
  {
   "cell_type": "code",
   "execution_count": 109,
   "metadata": {
    "scrolled": true
   },
   "outputs": [
    {
     "name": "stdout",
     "output_type": "stream",
     "text": [
      "Dyson\n",
      "Beko\n",
      "Electrolux\n",
      "Samsung\n",
      "Tefal\n"
     ]
    }
   ],
   "source": [
    "# Pokaż jakie marki kupiono\n",
    "c_drop_dupl = cleaner.drop_duplicates(subset=['Marka'])\n",
    "for brand in c_drop_dupl['Marka']:\n",
    "    print(brand)"
   ]
  },
  {
   "cell_type": "markdown",
   "metadata": {},
   "source": [
    "# Policzenie średniej opinii dla każdej marki i narysowanie wykresu\n",
    "\n",
    "Z wykresu można wnioskować produkty jakiej marki są najlepszej jakości"
   ]
  },
  {
   "cell_type": "code",
   "execution_count": 115,
   "metadata": {
    "scrolled": false
   },
   "outputs": [
    {
     "data": {
      "text/plain": [
       "Text(0, 0.5, 'Średnia opinia')"
      ]
     },
     "execution_count": 115,
     "metadata": {},
     "output_type": "execute_result"
    },
    {
     "data": {
      "image/png": "[encoded data removed]",
      "text/plain": [
       "<Figure size 432x288 with 1 Axes>"
      ]
     },
     "metadata": {
      "needs_background": "light"
     },
     "output_type": "display_data"
    }
   ],
   "source": [
    "average_mark_list = []\n",
    "averge_age_brand = []\n",
    "for brand in c_drop_dupl['Marka']:\n",
    "    c_brand = cleaner.loc[cleaner['Marka'] == brand]\n",
    "    average_mark_list.append(sum(c_brand['Ocena'])/len(c_brand['Ocena']))\n",
    "    averge_age_brand.append(sum(c_brand['Wiek kupującego'])/len(c_brand['Wiek kupującego']))\n",
    "    \n",
    "plt.bar(c_drop_dupl['Marka'], average_mark_list)   \n",
    "plt.title(\"Średnia ocena klientów na temat konkretnej marki\")\n",
    "plt.xlabel(\"Marka\")\n",
    "plt.ylabel(\"Średnia opinia\")\n",
    "\n",
    "# Jak widać produkty firm Electrolux i Samsung cieszą się najlepszymi opiniami, co może świadczyć o \n",
    "# ich wysokiej jakości, najsłabiej pod tym względem wypadł Dyson."
   ]
  },
  {
   "cell_type": "markdown",
   "metadata": {},
   "source": [
    "# Wyświetlenie średniej wieku klienta każdej marki\n",
    "\n",
    "Na tej podstawie można wnioskować jakim grupom docelowym najlepiej targetować reklamy np w serwisach społecznościowych."
   ]
  },
  {
   "cell_type": "code",
   "execution_count": 118,
   "metadata": {},
   "outputs": [
    {
     "data": {
      "text/plain": [
       "Text(0, 0.5, 'Średni wiek')"
      ]
     },
     "execution_count": 118,
     "metadata": {},
     "output_type": "execute_result"
    },
    {
     "data": {
      "image/png": "[encoded data removed]",
      "text/plain": [
       "<Figure size 432x288 with 1 Axes>"
      ]
     },
     "metadata": {
      "needs_background": "light"
     },
     "output_type": "display_data"
    }
   ],
   "source": [
    "# Wyświetlenie średniej wieku klientów - zmienną average_age_band policzono w podpunkcie poprzednim,\n",
    "# przy okazji liczenia średniej opinii\n",
    "plt.bar(c_drop_dupl['Marka'], averge_age_brand)   \n",
    "plt.title(\"Średni wiek klientów kupujących konkretną markę\")\n",
    "plt.xlabel(\"Marka\")\n",
    "plt.ylabel(\"Średni wiek\")\n",
    "\n",
    "# Statystycznie najmłodsi są klienci kupujący Tefal, natomiast najstarsi Samsung"
   ]
  },
  {
   "cell_type": "markdown",
   "metadata": {},
   "source": [
    "# Średnia opinii z podziałem na płcie\n",
    "\n",
    "Wykresy mogą mówić o tym która płeć jest bardziej surowa jeżeli chodzi o opinie w stosunku do zakupionych urządzeń"
   ]
  },
  {
   "cell_type": "code",
   "execution_count": 117,
   "metadata": {},
   "outputs": [
    {
     "data": {
      "text/plain": [
       "Text(0, 0.5, 'Średnia opinia')"
      ]
     },
     "execution_count": 117,
     "metadata": {},
     "output_type": "execute_result"
    },
    {
     "data": {
      "image/png": "[encoded data removed]",
      "text/plain": [
       "<Figure size 432x288 with 1 Axes>"
      ]
     },
     "metadata": {
      "needs_background": "light"
     },
     "output_type": "display_data"
    }
   ],
   "source": [
    "sex_drop_dupl = cleaner.drop_duplicates(subset=['Płeć kupującego'])\n",
    "average_mark_list = []\n",
    "\n",
    "K_customer = cleaner.loc[cleaner['Płeć kupującego'] == 'K']\n",
    "M_customer = cleaner.loc[cleaner['Płeć kupującego'] == 'M']   \n",
    "Bd_customer = cleaner.loc[cleaner['Płeć kupującego'] == 'bd.']   \n",
    "    \n",
    "average_mark_list.append(sum(K_customer['Ocena'])/len(K_customer['Ocena']))\n",
    "average_mark_list.append(sum(Bd_customer['Ocena'])/len(Bd_customer['Ocena']))\n",
    "average_mark_list.append(sum(M_customer['Ocena'])/len(M_customer['Ocena'])) \n",
    "\n",
    "plt.bar(sex_drop_dupl['Płeć kupującego'], average_mark_list)   \n",
    "plt.title(\"Średnia ocena klientów z podziałem na płeć\")\n",
    "plt.xlabel(\"Płeć\")\n",
    "plt.ylabel(\"Średnia opinia\")\n",
    "\n",
    "# Jak widać pod tym względem obie płcie są praktycznie zgodne z minimalną większą pobłażliwością mężczyzn,\n",
    "# można zatem wnioskować iż to im marketerzy mogą proponować urządzenia słabszej jakości"
   ]
  },
  {
   "cell_type": "markdown",
   "metadata": {},
   "source": [
    "# Wykres opinii w zależności od czasu jaki upłynął od dnia zakupu\n",
    "\n",
    "Wykres pozwala wnioskować czy klienci wraz z upływającym czasem są bardziej czy mniej zadowoleni z podjętej decyzji"
   ]
  },
  {
   "cell_type": "code",
   "execution_count": 119,
   "metadata": {},
   "outputs": [
    {
     "data": {
      "text/plain": [
       "Text(0, 0.5, 'Średnia opinia')"
      ]
     },
     "execution_count": 119,
     "metadata": {},
     "output_type": "execute_result"
    },
    {
     "data": {
      "image/png": "[encoded data removed]",
      "text/plain": [
       "<Figure size 432x288 with 1 Axes>"
      ]
     },
     "metadata": {
      "needs_background": "light"
     },
     "output_type": "display_data"
    }
   ],
   "source": [
    "day_drop_dupl = cleaner.drop_duplicates(subset=['Dni od zakupu'])\n",
    "min_day = min(cleaner['Dni od zakupu'])\n",
    "max_day = max(cleaner['Dni od zakupu'])\n",
    "average_mark_day = []\n",
    "\n",
    "for day in day_drop_dupl['Dni od zakupu']:\n",
    "    a = cleaner.loc[cleaner['Dni od zakupu'] == day]\n",
    "    average_mark_day.append(sum(a['Ocena'])/len(a['Ocena']))\n",
    "\n",
    "\n",
    "plt.bar(day_drop_dupl['Dni od zakupu'], average_mark_day)   \n",
    "plt.title(\"Średnia ocena klientów w zależności od czasu jaki upłynął od dnia zakupu\")\n",
    "plt.xlabel(\"Dni od daty zakupu\")\n",
    "plt.ylabel(\"Średnia opinia\")\n",
    "\n",
    "# Wydaje się iż wraz z upływem czasu kupujący są coraz bardziej zadwoleni z zakupu."
   ]
  },
  {
   "cell_type": "markdown",
   "metadata": {},
   "source": [
    "# Wykres średniej opinii na teamt zakupionych urządzeń w zależności od wieku klienta\n",
    "\n",
    "Wykresy pozwolą wnioskować czy wraz z wiekiem zmienia się pobłażliwość klientów w stosunku do zakupionych spęrztó"
   ]
  },
  {
   "cell_type": "code",
   "execution_count": 114,
   "metadata": {
    "scrolled": true
   },
   "outputs": [
    {
     "data": {
      "text/plain": [
       "Text(0, 0.5, 'Średnia opinia')"
      ]
     },
     "execution_count": 114,
     "metadata": {},
     "output_type": "execute_result"
    },
    {
     "data": {
      "image/png": "[encoded data removed]",
      "text/plain": [
       "<Figure size 432x288 with 1 Axes>"
      ]
     },
     "metadata": {
      "needs_background": "light"
     },
     "output_type": "display_data"
    }
   ],
   "source": [
    "age_drop_dupl = cleaner.drop_duplicates(subset=['Wiek kupującego'])\n",
    "min_age = min(age_drop_dupl['Wiek kupującego'])\n",
    "max_age = max(age_drop_dupl['Wiek kupującego'])\n",
    "min_age\n",
    "average_mark_age = []\n",
    "age_list = []\n",
    "\n",
    "for age in age_drop_dupl['Wiek kupującego']:\n",
    "    if(age > min_age and age < max_age):\n",
    "        age_list.append(age)\n",
    "        a = cleaner.loc[cleaner['Wiek kupującego'] == age]\n",
    "        average_mark_age.append(sum(a['Ocena'])/len(a['Ocena']))    \n",
    "\n",
    "plt.bar(age_list, average_mark_age)   \n",
    "plt.title(\"Średnia ocena klientów z podziałem na wiek\")\n",
    "plt.xlabel(\"Wiek\")\n",
    "plt.ylabel(\"Średnia opinia\")\n",
    "\n",
    "# Trudno doszukać się jednoznacznego trendu, ze względu na możliwą małą liczbę osób w starszym wieku, \n",
    "# jednak istotnie możliwe iż to starsze osoby są najbardziej zadowolone ze swoich urządzeń"
   ]
  }
 ],
 "metadata": {
  "colab": {
   "name": "Lab_6.ipynb",
   "provenance": []
  },
  "kernelspec": {
   "display_name": "Python 3",
   "language": "python",
   "name": "python3"
  },
  "language_info": {
   "codemirror_mode": {
    "name": "ipython",
    "version": 3
   },
   "file_extension": ".py",
   "mimetype": "text/x-python",
   "name": "python",
   "nbconvert_exporter": "python",
   "pygments_lexer": "ipython3",
   "version": "3.8.8"
  }
 },
 "nbformat": 4,
 "nbformat_minor": 1
}
