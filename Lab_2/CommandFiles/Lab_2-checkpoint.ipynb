{
 "cells": [
  {
   "cell_type": "code",
   "execution_count": 1,
   "metadata": {},
   "outputs": [
    {
     "ename": "SyntaxError",
     "evalue": "EOL while scanning string literal (<ipython-input-1-b1599b207a5b>, line 5)",
     "output_type": "error",
     "traceback": [
      "\u001b[1;36m  File \u001b[1;32m\"<ipython-input-1-b1599b207a5b>\"\u001b[1;36m, line \u001b[1;32m5\u001b[0m\n\u001b[1;33m    billboards = pd.read_csv(\"C:\\Users\\WINKLER\\Desktop\\Dokumenty\\AiBD\\Lab_2\\AnalysisData\\billboard.csv)\u001b[0m\n\u001b[1;37m                                                                                                       ^\u001b[0m\n\u001b[1;31mSyntaxError\u001b[0m\u001b[1;31m:\u001b[0m EOL while scanning string literal\n"
     ]
    }
   ],
   "source": [
    "import pandas as pd\n",
    "\n",
    "DIR = \"../AnalysisData/\"\n",
    "\n",
    "billboards = pd.read_csv(\"C:\\Users\\WINKLER\\Desktop\\Dokumenty\\AiBD\\Lab_2\\AnalysisData\\billboard.csv\")\n",
    "billboards.describe(include='all')"
   ]
  }
 ],
 "metadata": {
  "kernelspec": {
   "display_name": "Python 3",
   "language": "python",
   "name": "python3"
  },
  "language_info": {
   "codemirror_mode": {
    "name": "ipython",
    "version": 3
   },
   "file_extension": ".py",
   "mimetype": "text/x-python",
   "name": "python",
   "nbconvert_exporter": "python",
   "pygments_lexer": "ipython3",
   "version": "3.7.4"
  }
 },
 "nbformat": 4,
 "nbformat_minor": 2
}
